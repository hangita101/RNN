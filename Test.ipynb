{
 "cells": [
  {
   "cell_type": "code",
   "execution_count": 29,
   "metadata": {},
   "outputs": [],
   "source": [
    "import jax.numpy as jnp\n",
    "from jax import random,jit\n",
    "from jax import nn\n",
    "from jaxtyping import Array,Float,PyTree\n",
    "import matplotlib.pyplot as plt\n",
    "from jax import vmap"
   ]
  },
  {
   "cell_type": "code",
   "execution_count": 30,
   "metadata": {},
   "outputs": [],
   "source": [
    "KEY = random.PRNGKey(42)"
   ]
  },
  {
   "cell_type": "code",
   "execution_count": 60,
   "metadata": {},
   "outputs": [],
   "source": [
    "class RNN():\n",
    "    def __init__(self,key,inp,hidden,out):\n",
    "        self.inp=inp\n",
    "        self.hidden=hidden\n",
    "        self.out=out\n",
    "        self.W_hh = random.normal(KEY,(hidden,hidden))\n",
    "        self.W_hi = random.normal(KEY,(hidden,inp))\n",
    "        self.b_h = random.normal(KEY,(hidden,1))\n",
    "        \n",
    "        self.W_oh = random.normal(KEY,(out,hidden))\n",
    "        self.b_o = random.normal(KEY,(out,1))\n",
    "        \n",
    "        self.ycaps=None\n",
    "        self.ht=None\n",
    "        \n",
    "    def printsize(self):\n",
    "        print(self.W_hh.shape)\n",
    "        print(self.W_hi.shape)\n",
    "        print(self.b_h.shape)\n",
    "        print(self.W_oh.shape)\n",
    "        print(self.b_o.shape)\n",
    "    \n",
    "    def forward(self, x, h):\n",
    "        ht = nn.tanh(jnp.matmul(self.W_hi, x) + jnp.matmul(self.W_hh, h) + self.b_h) \n",
    "        out = jnp.matmul(self.W_oh, ht) + self.b_o\n",
    "        return ht, out\n",
    "\n",
    "    jit_forward = jit(forward,static_argnums=[0])\n",
    "        \n",
    "    def forwardpass(self, x, h0=None, key=random.PRNGKey(0)):\n",
    "            N = x.shape[0]\n",
    "\n",
    "            if h0 is None:\n",
    "                h0 = random.normal(key, (self.hidden, 1))\n",
    "            \n",
    "            self.ycaps = jnp.zeros((N, self.out, 1))  # Initialize output container\n",
    "            self.ht = jnp.zeros((N + 1, self.hidden, 1))  # Initialize hidden state container\n",
    "\n",
    "            self.ht = self.ht.at[0].set(h0)  # Set the initial hidden state\n",
    "            \n",
    "            for i in range(N):\n",
    "                # Ensure x[i] is reshaped correctly as a column vector\n",
    "                h0, out = self.jit_forward(x[i].reshape(self.inp, 1), h0)\n",
    "                self.ht = self.ht.at[i + 1].set(h0)\n",
    "                self.ycaps = self.ycaps.at[i].set(out.reshape(self.out, 1))  # Ensure output is reshaped correctly\n",
    "\n",
    "            return self.ycaps, self.ht  # Return predicted outputs and hidden states\n",
    "            \n",
    "        "
   ]
  },
  {
   "cell_type": "code",
   "execution_count": 61,
   "metadata": {},
   "outputs": [],
   "source": [
    "model = RNN(KEY,1,10,1)"
   ]
  },
  {
   "cell_type": "code",
   "execution_count": 62,
   "metadata": {},
   "outputs": [],
   "source": [
    "h0 = random.normal(KEY, (10, 1))"
   ]
  },
  {
   "cell_type": "code",
   "execution_count": 70,
   "metadata": {},
   "outputs": [],
   "source": [
    "x = random.normal(KEY,(10000,1))"
   ]
  },
  {
   "cell_type": "code",
   "execution_count": 71,
   "metadata": {},
   "outputs": [
    {
     "data": {
      "text/plain": [
       "Array([[[-0.3721109 ],\n",
       "        [ 0.26423115],\n",
       "        [-0.18252768],\n",
       "        ...,\n",
       "        [-0.5908641 ],\n",
       "        [ 0.73168886],\n",
       "        [ 0.5673026 ]],\n",
       "\n",
       "       [[-0.56774473],\n",
       "        [-0.99580765],\n",
       "        [-0.96661586],\n",
       "        ...,\n",
       "        [-0.61857843],\n",
       "        [-0.8024847 ],\n",
       "        [ 0.9931486 ]],\n",
       "\n",
       "       [[-0.9999886 ],\n",
       "        [-0.93692994],\n",
       "        [ 0.99567395],\n",
       "        ...,\n",
       "        [-0.98534554],\n",
       "        [ 0.99170107],\n",
       "        [-0.92487085]],\n",
       "\n",
       "       ...,\n",
       "\n",
       "       [[-0.9999998 ],\n",
       "        [-0.8981931 ],\n",
       "        [ 0.94278514],\n",
       "        ...,\n",
       "        [-0.91841096],\n",
       "        [-0.31159103],\n",
       "        [ 0.9305251 ]],\n",
       "\n",
       "       [[-0.9996378 ],\n",
       "        [-0.9512382 ],\n",
       "        [ 0.9999658 ],\n",
       "        ...,\n",
       "        [-0.9732045 ],\n",
       "        [-0.9796401 ],\n",
       "        [-0.640589  ]],\n",
       "\n",
       "       [[-0.8525814 ],\n",
       "        [ 0.9938459 ],\n",
       "        [ 0.99998355],\n",
       "        ...,\n",
       "        [-0.9859801 ],\n",
       "        [-0.07986838],\n",
       "        [-0.9886519 ]]], dtype=float32)"
      ]
     },
     "execution_count": 71,
     "metadata": {},
     "output_type": "execute_result"
    }
   ],
   "source": [
    "model.forwardpass(x)[1]"
   ]
  },
  {
   "cell_type": "code",
   "execution_count": null,
   "metadata": {},
   "outputs": [],
   "source": []
  }
 ],
 "metadata": {
  "kernelspec": {
   "display_name": "ML",
   "language": "python",
   "name": "python3"
  },
  "language_info": {
   "codemirror_mode": {
    "name": "ipython",
    "version": 3
   },
   "file_extension": ".py",
   "mimetype": "text/x-python",
   "name": "python",
   "nbconvert_exporter": "python",
   "pygments_lexer": "ipython3",
   "version": "3.11.9"
  }
 },
 "nbformat": 4,
 "nbformat_minor": 2
}
